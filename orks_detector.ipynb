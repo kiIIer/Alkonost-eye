{
 "cells": [
  {
   "cell_type": "code",
   "execution_count": 1,
   "id": "a0077b4e-c5fa-4941-966d-9c74d5af1eef",
   "metadata": {},
   "outputs": [
    {
     "name": "stdout",
     "output_type": "stream",
     "text": [
      "Found 5616 images belonging to 2 classes.\n",
      "Found 5616 images belonging to 2 classes.\n",
      "Found 242 images belonging to 2 classes.\n"
     ]
    },
    {
     "name": "stderr",
     "output_type": "stream",
     "text": [
      "C:\\Temp\\ipykernel_21776\\4248060362.py:40: UserWarning: `Model.fit_generator` is deprecated and will be removed in a future version. Please use `Model.fit`, which supports generators.\n",
      "  results = model.fit_generator(train_image_gen, epochs = 5, steps_per_epoch = 24,\n"
     ]
    },
    {
     "name": "stdout",
     "output_type": "stream",
     "text": [
      "Epoch 1/5\n",
      "24/24 [==============================] - 60s 2s/step - loss: 301.3961 - accuracy: 0.6510 - val_loss: 0.5166 - val_accuracy: 0.9323\n",
      "Epoch 2/5\n",
      "24/24 [==============================] - 57s 2s/step - loss: 0.4048 - accuracy: 0.7917 - val_loss: 0.4349 - val_accuracy: 0.9010\n",
      "Epoch 3/5\n",
      "24/24 [==============================] - 57s 2s/step - loss: 0.3120 - accuracy: 0.8906 - val_loss: 0.4696 - val_accuracy: 0.9375\n",
      "Epoch 4/5\n",
      "24/24 [==============================] - 57s 2s/step - loss: 0.3700 - accuracy: 0.8646 - val_loss: 0.4994 - val_accuracy: 0.8333\n",
      "Epoch 5/5\n",
      "24/24 [==============================] - 57s 2s/step - loss: 0.5211 - accuracy: 0.7031 - val_loss: 0.5834 - val_accuracy: 0.7760\n"
     ]
    }
   ],
   "source": [
    "import cv2\n",
    "\n",
    "from keras.preprocessing.image import ImageDataGenerator\n",
    "from keras.models import Sequential\n",
    "from keras.layers import Activation, Dropout, Flatten, Conv2D, MaxPooling2D, Dense\n",
    "\n",
    "input_shape=(450, 450, 3)\n",
    "image_gen = ImageDataGenerator()\n",
    "image_gen.flow_from_directory('./alkonost-eye-dataset/train')\n",
    "\n",
    "model = Sequential()\n",
    "model.add(Conv2D(filters = 32, kernel_size = (3,3), input_shape=input_shape, activation = 'relu'))\n",
    "model.add(MaxPooling2D(pool_size=(2,2)))\n",
    "model.add(Conv2D(filters = 64, kernel_size = (3,3), input_shape=input_shape, activation = 'relu'))\n",
    "model.add(MaxPooling2D(pool_size=(2,2)))\n",
    "model.add(Conv2D(filters = 64, kernel_size = (3,3), input_shape=input_shape, activation = 'relu'))\n",
    "model.add(MaxPooling2D(pool_size=(2,2)))\n",
    "model.add(Flatten())\n",
    "model.add(Dense(128))\n",
    "model.add(Activation('relu'))\n",
    "model.add(Dropout(0.5))\n",
    "model.add(Dense(1))\n",
    "model.add(Activation('sigmoid'))\n",
    "\n",
    "model.compile(loss='binary_crossentropy',\n",
    "             optimizer='adam',\n",
    "             metrics = ['accuracy'])\n",
    "\n",
    "batch_size = 16\n",
    "train_image_gen = image_gen.flow_from_directory('./alkonost-eye-dataset/train/', \n",
    "                                                target_size = input_shape[:2],\n",
    "                                                batch_size = batch_size,\n",
    "                                               class_mode = 'binary')\n",
    "\n",
    "test_image_gen = image_gen.flow_from_directory('./alkonost-eye-dataset/test/', \n",
    "                                                target_size = input_shape[:2],\n",
    "                                               batch_size = batch_size,\n",
    "                                               class_mode = 'binary')\n",
    "\n",
    "results = model.fit_generator(train_image_gen, epochs = 5, steps_per_epoch = 24,\n",
    "                             validation_data=test_image_gen, validation_steps = 12)\n"
   ]
  },
  {
   "cell_type": "code",
   "execution_count": 5,
   "id": "558d0bff-0fbe-4db8-b20e-3731c315c610",
   "metadata": {},
   "outputs": [
    {
     "data": {
      "text/plain": [
       "{'loss': [301.39605712890625,\n",
       "  0.40482720732688904,\n",
       "  0.3119867444038391,\n",
       "  0.37000128626823425,\n",
       "  0.5211278796195984],\n",
       " 'accuracy': [0.6510416865348816,\n",
       "  0.7916666865348816,\n",
       "  0.890625,\n",
       "  0.8645833134651184,\n",
       "  0.703125],\n",
       " 'val_loss': [0.516563355922699,\n",
       "  0.43487921357154846,\n",
       "  0.46961304545402527,\n",
       "  0.49942657351493835,\n",
       "  0.5834168195724487],\n",
       " 'val_accuracy': [0.9322916865348816,\n",
       "  0.9010416865348816,\n",
       "  0.9375,\n",
       "  0.8333333134651184,\n",
       "  0.7760416865348816]}"
      ]
     },
     "execution_count": 5,
     "metadata": {},
     "output_type": "execute_result"
    }
   ],
   "source": [
    "results.history"
   ]
  },
  {
   "cell_type": "code",
   "execution_count": 6,
   "id": "b57eb189-5a0a-433f-a5fe-c2ab562d4fb1",
   "metadata": {},
   "outputs": [],
   "source": [
    "results.model.save('./alkonost-eye-v0.2.0.h5')"
   ]
  },
  {
   "cell_type": "code",
   "execution_count": 7,
   "id": "c82d2852-88d7-4b38-8060-687da3e40ca0",
   "metadata": {},
   "outputs": [],
   "source": [
    "from keras.models import load_model\n",
    "modella = load_model('./alkonost-eye-v0.2.0.h5')"
   ]
  },
  {
   "cell_type": "code",
   "execution_count": 8,
   "id": "67c3b3ac-d162-4720-a977-5ac543e7e9ce",
   "metadata": {},
   "outputs": [
    {
     "data": {
      "text/plain": [
       "{'not_orks': 0, 'orks': 1}"
      ]
     },
     "execution_count": 8,
     "metadata": {},
     "output_type": "execute_result"
    }
   ],
   "source": [
    "train_image_gen.class_indices"
   ]
  },
  {
   "cell_type": "code",
   "execution_count": 9,
   "id": "78cc9e4a-2f24-4cf6-8490-2c5bbf216808",
   "metadata": {},
   "outputs": [
    {
     "data": {
      "text/plain": [
       "{'not_orks': 0, 'orks': 1}"
      ]
     },
     "execution_count": 9,
     "metadata": {},
     "output_type": "execute_result"
    }
   ],
   "source": [
    "test_image_gen.class_indices"
   ]
  },
  {
   "cell_type": "code",
   "execution_count": 33,
   "id": "34061143-1819-4e2f-a46a-f16972b0d744",
   "metadata": {},
   "outputs": [],
   "source": [
    "import matplotlib.pyplot as plt\n",
    "manual_test_1 = cv2.imread('./alkonost-manual-check-data/1.png')\n",
    "manual_test_1 = cv2.resize(manual_test_1, input_shape[:2]).reshape(1, 450, 450, 3)\n",
    "manual_test_2 = cv2.imread('./alkonost-manual-check-data/2.png')\n",
    "manual_test_2 = cv2.resize(manual_test_2, input_shape[:2]).reshape(1, 450, 450, 3)\n",
    "manual_test_3 = cv2.imread('./alkonost-manual-check-data/3.png')\n",
    "manual_test_3 = cv2.resize(manual_test_3, input_shape[:2]).reshape(1, 450, 450, 3)\n",
    "manual_test_4 = cv2.imread('./alkonost-manual-check-data/4.png')\n",
    "manual_test_4 = cv2.resize(manual_test_4, input_shape[:2]).reshape(1, 450, 450, 3)\n",
    "\n",
    "manual_test_1_no_orks = cv2.imread('./alkonost-manual-check-data/1_no.png')\n",
    "manual_test_1_no_orks = cv2.resize(manual_test_1_no_orks, input_shape[:2]).reshape(1, 450, 450, 3)\n",
    "manual_test_2_no_orks = cv2.imread('./alkonost-manual-check-data/2_no.png')\n",
    "manual_test_2_no_orks = cv2.resize(manual_test_2_no_orks, input_shape[:2]).reshape(1, 450, 450, 3)"
   ]
  },
  {
   "cell_type": "code",
   "execution_count": 34,
   "id": "4683d30d-4427-47c3-8cd1-3eb7a129a24d",
   "metadata": {},
   "outputs": [
    {
     "name": "stdout",
     "output_type": "stream",
     "text": [
      "1/1 [==============================] - 0s 113ms/step\n"
     ]
    },
    {
     "data": {
      "text/plain": [
       "array([[0.48062685]], dtype=float32)"
      ]
     },
     "execution_count": 34,
     "metadata": {},
     "output_type": "execute_result"
    }
   ],
   "source": [
    "results.model.predict(manual_test_1_no_orks)"
   ]
  },
  {
   "cell_type": "code",
   "execution_count": 35,
   "id": "9f905971-a107-4226-bb55-ad98ff998e9d",
   "metadata": {},
   "outputs": [
    {
     "name": "stdout",
     "output_type": "stream",
     "text": [
      "1/1 [==============================] - 0s 98ms/step\n"
     ]
    },
    {
     "data": {
      "text/plain": [
       "array([[0.45010263]], dtype=float32)"
      ]
     },
     "execution_count": 35,
     "metadata": {},
     "output_type": "execute_result"
    }
   ],
   "source": [
    "results.model.predict(manual_test_2_no_orks)"
   ]
  },
  {
   "cell_type": "code",
   "execution_count": null,
   "id": "0a96c429-a354-4381-8786-8b2445b514b4",
   "metadata": {},
   "outputs": [],
   "source": []
  }
 ],
 "metadata": {
  "kernelspec": {
   "display_name": "Python 3 (ipykernel)",
   "language": "python",
   "name": "python3"
  },
  "language_info": {
   "codemirror_mode": {
    "name": "ipython",
    "version": 3
   },
   "file_extension": ".py",
   "mimetype": "text/x-python",
   "name": "python",
   "nbconvert_exporter": "python",
   "pygments_lexer": "ipython3",
   "version": "3.9.13"
  }
 },
 "nbformat": 4,
 "nbformat_minor": 5
}
